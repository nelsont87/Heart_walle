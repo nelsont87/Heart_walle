{
 "cells": [
  {
   "cell_type": "code",
   "execution_count": 1,
   "metadata": {},
   "outputs": [],
   "source": [
    "import pandas as pd\n",
    "import numpy as np"
   ]
  },
  {
   "cell_type": "markdown",
   "metadata": {},
   "source": [
    "# Create the Dataframe"
   ]
  },
  {
   "cell_type": "code",
   "execution_count": 2,
   "metadata": {},
   "outputs": [
    {
     "data": {
      "text/html": [
       "<div>\n",
       "<style scoped>\n",
       "    .dataframe tbody tr th:only-of-type {\n",
       "        vertical-align: middle;\n",
       "    }\n",
       "\n",
       "    .dataframe tbody tr th {\n",
       "        vertical-align: top;\n",
       "    }\n",
       "\n",
       "    .dataframe thead th {\n",
       "        text-align: right;\n",
       "    }\n",
       "</style>\n",
       "<table border=\"1\" class=\"dataframe\">\n",
       "  <thead>\n",
       "    <tr style=\"text-align: right;\">\n",
       "      <th></th>\n",
       "      <th>id</th>\n",
       "      <th>age</th>\n",
       "      <th>gender</th>\n",
       "      <th>height</th>\n",
       "      <th>weight</th>\n",
       "      <th>ap_hi</th>\n",
       "      <th>ap_lo</th>\n",
       "      <th>cholesterol</th>\n",
       "      <th>gluc</th>\n",
       "      <th>smoke</th>\n",
       "      <th>alco</th>\n",
       "      <th>active</th>\n",
       "      <th>cardio</th>\n",
       "    </tr>\n",
       "  </thead>\n",
       "  <tbody>\n",
       "    <tr>\n",
       "      <td>0</td>\n",
       "      <td>0</td>\n",
       "      <td>50</td>\n",
       "      <td>2</td>\n",
       "      <td>168</td>\n",
       "      <td>62.0</td>\n",
       "      <td>110</td>\n",
       "      <td>80</td>\n",
       "      <td>1</td>\n",
       "      <td>1</td>\n",
       "      <td>0</td>\n",
       "      <td>0</td>\n",
       "      <td>1</td>\n",
       "      <td>0</td>\n",
       "    </tr>\n",
       "    <tr>\n",
       "      <td>1</td>\n",
       "      <td>1</td>\n",
       "      <td>55</td>\n",
       "      <td>1</td>\n",
       "      <td>156</td>\n",
       "      <td>85.0</td>\n",
       "      <td>140</td>\n",
       "      <td>90</td>\n",
       "      <td>3</td>\n",
       "      <td>1</td>\n",
       "      <td>0</td>\n",
       "      <td>0</td>\n",
       "      <td>1</td>\n",
       "      <td>1</td>\n",
       "    </tr>\n",
       "    <tr>\n",
       "      <td>2</td>\n",
       "      <td>2</td>\n",
       "      <td>51</td>\n",
       "      <td>1</td>\n",
       "      <td>165</td>\n",
       "      <td>64.0</td>\n",
       "      <td>130</td>\n",
       "      <td>70</td>\n",
       "      <td>3</td>\n",
       "      <td>1</td>\n",
       "      <td>0</td>\n",
       "      <td>0</td>\n",
       "      <td>0</td>\n",
       "      <td>1</td>\n",
       "    </tr>\n",
       "    <tr>\n",
       "      <td>3</td>\n",
       "      <td>3</td>\n",
       "      <td>48</td>\n",
       "      <td>2</td>\n",
       "      <td>169</td>\n",
       "      <td>82.0</td>\n",
       "      <td>150</td>\n",
       "      <td>100</td>\n",
       "      <td>1</td>\n",
       "      <td>1</td>\n",
       "      <td>0</td>\n",
       "      <td>0</td>\n",
       "      <td>1</td>\n",
       "      <td>1</td>\n",
       "    </tr>\n",
       "    <tr>\n",
       "      <td>4</td>\n",
       "      <td>4</td>\n",
       "      <td>47</td>\n",
       "      <td>1</td>\n",
       "      <td>156</td>\n",
       "      <td>56.0</td>\n",
       "      <td>100</td>\n",
       "      <td>60</td>\n",
       "      <td>1</td>\n",
       "      <td>1</td>\n",
       "      <td>0</td>\n",
       "      <td>0</td>\n",
       "      <td>0</td>\n",
       "      <td>0</td>\n",
       "    </tr>\n",
       "    <tr>\n",
       "      <td>5</td>\n",
       "      <td>8</td>\n",
       "      <td>60</td>\n",
       "      <td>1</td>\n",
       "      <td>151</td>\n",
       "      <td>67.0</td>\n",
       "      <td>120</td>\n",
       "      <td>80</td>\n",
       "      <td>2</td>\n",
       "      <td>2</td>\n",
       "      <td>0</td>\n",
       "      <td>0</td>\n",
       "      <td>0</td>\n",
       "      <td>0</td>\n",
       "    </tr>\n",
       "    <tr>\n",
       "      <td>6</td>\n",
       "      <td>9</td>\n",
       "      <td>60</td>\n",
       "      <td>1</td>\n",
       "      <td>157</td>\n",
       "      <td>93.0</td>\n",
       "      <td>130</td>\n",
       "      <td>80</td>\n",
       "      <td>3</td>\n",
       "      <td>1</td>\n",
       "      <td>0</td>\n",
       "      <td>0</td>\n",
       "      <td>1</td>\n",
       "      <td>0</td>\n",
       "    </tr>\n",
       "    <tr>\n",
       "      <td>7</td>\n",
       "      <td>12</td>\n",
       "      <td>61</td>\n",
       "      <td>2</td>\n",
       "      <td>178</td>\n",
       "      <td>95.0</td>\n",
       "      <td>130</td>\n",
       "      <td>90</td>\n",
       "      <td>3</td>\n",
       "      <td>3</td>\n",
       "      <td>0</td>\n",
       "      <td>0</td>\n",
       "      <td>1</td>\n",
       "      <td>1</td>\n",
       "    </tr>\n",
       "    <tr>\n",
       "      <td>8</td>\n",
       "      <td>13</td>\n",
       "      <td>48</td>\n",
       "      <td>1</td>\n",
       "      <td>158</td>\n",
       "      <td>71.0</td>\n",
       "      <td>110</td>\n",
       "      <td>70</td>\n",
       "      <td>1</td>\n",
       "      <td>1</td>\n",
       "      <td>0</td>\n",
       "      <td>0</td>\n",
       "      <td>1</td>\n",
       "      <td>0</td>\n",
       "    </tr>\n",
       "    <tr>\n",
       "      <td>9</td>\n",
       "      <td>14</td>\n",
       "      <td>54</td>\n",
       "      <td>1</td>\n",
       "      <td>164</td>\n",
       "      <td>68.0</td>\n",
       "      <td>110</td>\n",
       "      <td>60</td>\n",
       "      <td>1</td>\n",
       "      <td>1</td>\n",
       "      <td>0</td>\n",
       "      <td>0</td>\n",
       "      <td>0</td>\n",
       "      <td>0</td>\n",
       "    </tr>\n",
       "  </tbody>\n",
       "</table>\n",
       "</div>"
      ],
      "text/plain": [
       "   id  age  gender  height  weight  ap_hi  ap_lo  cholesterol  gluc  smoke  \\\n",
       "0   0   50       2     168    62.0    110     80            1     1      0   \n",
       "1   1   55       1     156    85.0    140     90            3     1      0   \n",
       "2   2   51       1     165    64.0    130     70            3     1      0   \n",
       "3   3   48       2     169    82.0    150    100            1     1      0   \n",
       "4   4   47       1     156    56.0    100     60            1     1      0   \n",
       "5   8   60       1     151    67.0    120     80            2     2      0   \n",
       "6   9   60       1     157    93.0    130     80            3     1      0   \n",
       "7  12   61       2     178    95.0    130     90            3     3      0   \n",
       "8  13   48       1     158    71.0    110     70            1     1      0   \n",
       "9  14   54       1     164    68.0    110     60            1     1      0   \n",
       "\n",
       "   alco  active  cardio  \n",
       "0     0       1       0  \n",
       "1     0       1       1  \n",
       "2     0       0       1  \n",
       "3     0       1       1  \n",
       "4     0       0       0  \n",
       "5     0       0       0  \n",
       "6     0       1       0  \n",
       "7     0       1       1  \n",
       "8     0       1       0  \n",
       "9     0       0       0  "
      ]
     },
     "execution_count": 2,
     "metadata": {},
     "output_type": "execute_result"
    }
   ],
   "source": [
    "df = pd.read_csv(\"../Resources/heart.csv\")\n",
    "df[\"age\"] = (df[\"age\"]/365).apply(np.floor).astype(int)\n",
    "df.head(10)"
   ]
  },
  {
   "cell_type": "code",
   "execution_count": 3,
   "metadata": {},
   "outputs": [
    {
     "data": {
      "text/html": [
       "<div>\n",
       "<style scoped>\n",
       "    .dataframe tbody tr th:only-of-type {\n",
       "        vertical-align: middle;\n",
       "    }\n",
       "\n",
       "    .dataframe tbody tr th {\n",
       "        vertical-align: top;\n",
       "    }\n",
       "\n",
       "    .dataframe thead th {\n",
       "        text-align: right;\n",
       "    }\n",
       "</style>\n",
       "<table border=\"1\" class=\"dataframe\">\n",
       "  <thead>\n",
       "    <tr style=\"text-align: right;\">\n",
       "      <th></th>\n",
       "      <th>age</th>\n",
       "      <th>gender</th>\n",
       "      <th>height</th>\n",
       "      <th>weight</th>\n",
       "      <th>ap_hi</th>\n",
       "      <th>ap_lo</th>\n",
       "      <th>cholesterol</th>\n",
       "      <th>gluc</th>\n",
       "      <th>smoke</th>\n",
       "      <th>alco</th>\n",
       "      <th>active</th>\n",
       "      <th>cardio</th>\n",
       "    </tr>\n",
       "  </thead>\n",
       "  <tbody>\n",
       "    <tr>\n",
       "      <td>0</td>\n",
       "      <td>50</td>\n",
       "      <td>2</td>\n",
       "      <td>168</td>\n",
       "      <td>62.0</td>\n",
       "      <td>110</td>\n",
       "      <td>80</td>\n",
       "      <td>1</td>\n",
       "      <td>1</td>\n",
       "      <td>0</td>\n",
       "      <td>0</td>\n",
       "      <td>1</td>\n",
       "      <td>0</td>\n",
       "    </tr>\n",
       "    <tr>\n",
       "      <td>1</td>\n",
       "      <td>55</td>\n",
       "      <td>1</td>\n",
       "      <td>156</td>\n",
       "      <td>85.0</td>\n",
       "      <td>140</td>\n",
       "      <td>90</td>\n",
       "      <td>3</td>\n",
       "      <td>1</td>\n",
       "      <td>0</td>\n",
       "      <td>0</td>\n",
       "      <td>1</td>\n",
       "      <td>1</td>\n",
       "    </tr>\n",
       "    <tr>\n",
       "      <td>2</td>\n",
       "      <td>51</td>\n",
       "      <td>1</td>\n",
       "      <td>165</td>\n",
       "      <td>64.0</td>\n",
       "      <td>130</td>\n",
       "      <td>70</td>\n",
       "      <td>3</td>\n",
       "      <td>1</td>\n",
       "      <td>0</td>\n",
       "      <td>0</td>\n",
       "      <td>0</td>\n",
       "      <td>1</td>\n",
       "    </tr>\n",
       "    <tr>\n",
       "      <td>3</td>\n",
       "      <td>48</td>\n",
       "      <td>2</td>\n",
       "      <td>169</td>\n",
       "      <td>82.0</td>\n",
       "      <td>150</td>\n",
       "      <td>100</td>\n",
       "      <td>1</td>\n",
       "      <td>1</td>\n",
       "      <td>0</td>\n",
       "      <td>0</td>\n",
       "      <td>1</td>\n",
       "      <td>1</td>\n",
       "    </tr>\n",
       "    <tr>\n",
       "      <td>4</td>\n",
       "      <td>47</td>\n",
       "      <td>1</td>\n",
       "      <td>156</td>\n",
       "      <td>56.0</td>\n",
       "      <td>100</td>\n",
       "      <td>60</td>\n",
       "      <td>1</td>\n",
       "      <td>1</td>\n",
       "      <td>0</td>\n",
       "      <td>0</td>\n",
       "      <td>0</td>\n",
       "      <td>0</td>\n",
       "    </tr>\n",
       "    <tr>\n",
       "      <td>5</td>\n",
       "      <td>60</td>\n",
       "      <td>1</td>\n",
       "      <td>151</td>\n",
       "      <td>67.0</td>\n",
       "      <td>120</td>\n",
       "      <td>80</td>\n",
       "      <td>2</td>\n",
       "      <td>2</td>\n",
       "      <td>0</td>\n",
       "      <td>0</td>\n",
       "      <td>0</td>\n",
       "      <td>0</td>\n",
       "    </tr>\n",
       "    <tr>\n",
       "      <td>6</td>\n",
       "      <td>60</td>\n",
       "      <td>1</td>\n",
       "      <td>157</td>\n",
       "      <td>93.0</td>\n",
       "      <td>130</td>\n",
       "      <td>80</td>\n",
       "      <td>3</td>\n",
       "      <td>1</td>\n",
       "      <td>0</td>\n",
       "      <td>0</td>\n",
       "      <td>1</td>\n",
       "      <td>0</td>\n",
       "    </tr>\n",
       "    <tr>\n",
       "      <td>7</td>\n",
       "      <td>61</td>\n",
       "      <td>2</td>\n",
       "      <td>178</td>\n",
       "      <td>95.0</td>\n",
       "      <td>130</td>\n",
       "      <td>90</td>\n",
       "      <td>3</td>\n",
       "      <td>3</td>\n",
       "      <td>0</td>\n",
       "      <td>0</td>\n",
       "      <td>1</td>\n",
       "      <td>1</td>\n",
       "    </tr>\n",
       "    <tr>\n",
       "      <td>8</td>\n",
       "      <td>48</td>\n",
       "      <td>1</td>\n",
       "      <td>158</td>\n",
       "      <td>71.0</td>\n",
       "      <td>110</td>\n",
       "      <td>70</td>\n",
       "      <td>1</td>\n",
       "      <td>1</td>\n",
       "      <td>0</td>\n",
       "      <td>0</td>\n",
       "      <td>1</td>\n",
       "      <td>0</td>\n",
       "    </tr>\n",
       "    <tr>\n",
       "      <td>9</td>\n",
       "      <td>54</td>\n",
       "      <td>1</td>\n",
       "      <td>164</td>\n",
       "      <td>68.0</td>\n",
       "      <td>110</td>\n",
       "      <td>60</td>\n",
       "      <td>1</td>\n",
       "      <td>1</td>\n",
       "      <td>0</td>\n",
       "      <td>0</td>\n",
       "      <td>0</td>\n",
       "      <td>0</td>\n",
       "    </tr>\n",
       "  </tbody>\n",
       "</table>\n",
       "</div>"
      ],
      "text/plain": [
       "   age  gender  height  weight  ap_hi  ap_lo  cholesterol  gluc  smoke  alco  \\\n",
       "0   50       2     168    62.0    110     80            1     1      0     0   \n",
       "1   55       1     156    85.0    140     90            3     1      0     0   \n",
       "2   51       1     165    64.0    130     70            3     1      0     0   \n",
       "3   48       2     169    82.0    150    100            1     1      0     0   \n",
       "4   47       1     156    56.0    100     60            1     1      0     0   \n",
       "5   60       1     151    67.0    120     80            2     2      0     0   \n",
       "6   60       1     157    93.0    130     80            3     1      0     0   \n",
       "7   61       2     178    95.0    130     90            3     3      0     0   \n",
       "8   48       1     158    71.0    110     70            1     1      0     0   \n",
       "9   54       1     164    68.0    110     60            1     1      0     0   \n",
       "\n",
       "   active  cardio  \n",
       "0       1       0  \n",
       "1       1       1  \n",
       "2       0       1  \n",
       "3       1       1  \n",
       "4       0       0  \n",
       "5       0       0  \n",
       "6       1       0  \n",
       "7       1       1  \n",
       "8       1       0  \n",
       "9       0       0  "
      ]
     },
     "execution_count": 3,
     "metadata": {},
     "output_type": "execute_result"
    }
   ],
   "source": [
    "cardiodf = df[[\"age\", \"gender\", \"height\", \"weight\", \"ap_hi\", \"ap_lo\",\n",
    "              \"cholesterol\", \"gluc\", \"smoke\", \"alco\", \"active\", \"cardio\"]]\n",
    "cardiodf.head(10)"
   ]
  },
  {
   "cell_type": "markdown",
   "metadata": {},
   "source": [
    "# Preprocessing"
   ]
  },
  {
   "cell_type": "code",
   "execution_count": 4,
   "metadata": {},
   "outputs": [
    {
     "name": "stdout",
     "output_type": "stream",
     "text": [
      "(70000, 11) (70000,)\n"
     ]
    }
   ],
   "source": [
    "X = cardiodf.drop(\"cardio\", axis=1)\n",
    "y = cardiodf[\"cardio\"]\n",
    "feature_names = X.columns\n",
    "print(X.shape, y.shape)"
   ]
  },
  {
   "cell_type": "markdown",
   "metadata": {},
   "source": [
    "# Train_test_Split"
   ]
  },
  {
   "cell_type": "code",
   "execution_count": 5,
   "metadata": {},
   "outputs": [],
   "source": [
    "from sklearn.model_selection import train_test_split\n",
    "\n",
    "X_train, X_test, y_train, y_test = train_test_split(X, y, random_state=1)"
   ]
  },
  {
   "cell_type": "markdown",
   "metadata": {},
   "source": [
    "# StandardScaler"
   ]
  },
  {
   "cell_type": "code",
   "execution_count": 6,
   "metadata": {},
   "outputs": [],
   "source": [
    "from sklearn.preprocessing import StandardScaler\n",
    "X_scaler = StandardScaler().fit(X_train)\n",
    "\n",
    "X_train_scaled = X_scaler.transform(X_train)\n",
    "X_test_scaled = X_scaler.transform(X_test)"
   ]
  },
  {
   "cell_type": "markdown",
   "metadata": {},
   "source": [
    "# One Hot Encoding"
   ]
  },
  {
   "cell_type": "code",
   "execution_count": 7,
   "metadata": {},
   "outputs": [],
   "source": [
    "# from keras.utils import to_categorical\n",
    "\n",
    "# # one-hot encoding y feature\n",
    "# y_train_categorical = to_categorical(y_train)\n",
    "# y_test_categorical = to_categorical(y_test)\n",
    "\n",
    "# # one-hot encoding X features\n",
    "# X_train_categorical = to_categorical(X_train[[\"gluc\", \"smoke\", \"alco\", \"active\", \"cholesterol\", \"gender\"]])\n",
    "# X_test_categorical = to_categorical(X_test[[\"gluc\", \"smoke\", \"alco\", \"active\", \"cholesterol\", \"gender\"]])"
   ]
  },
  {
   "cell_type": "markdown",
   "metadata": {},
   "source": [
    "# Support Vector Machine"
   ]
  },
  {
   "cell_type": "code",
   "execution_count": 2,
   "metadata": {},
   "outputs": [],
   "source": [
    "from sklearn.svm import SVC \n",
    "\n",
    "# model = SVC(kernel='linear', verbose=1)\n",
    "# model.fit(X_train_scaled, y_train)"
   ]
  },
  {
   "cell_type": "markdown",
   "metadata": {},
   "source": [
    "# Finding the R2 Score"
   ]
  },
  {
   "cell_type": "code",
   "execution_count": 9,
   "metadata": {},
   "outputs": [
    {
     "name": "stdout",
     "output_type": "stream",
     "text": [
      "Training Score: 0.7232761904761905\n",
      "Testing Score: 0.7228\n"
     ]
    }
   ],
   "source": [
    "trainSVM = model.score(X_train_scaled, y_train)\n",
    "testSVM = model.score(X_test_scaled, y_test)\n",
    "\n",
    "print(f\"Training Score: {trainSVM}\")\n",
    "print(f\"Testing Score: {testSVM}\")"
   ]
  },
  {
   "cell_type": "markdown",
   "metadata": {},
   "source": [
    "# GridSearch --> Hyperparameter Tuning"
   ]
  },
  {
   "cell_type": "code",
   "execution_count": 10,
   "metadata": {},
   "outputs": [],
   "source": [
    "from sklearn.model_selection import GridSearchCV\n",
    "\n",
    "param_grid = {'C': [1, 5, 10, 50],\n",
    "              'gamma': [0.0001, 0.0005, 0.001, 0.005]}\n",
    "grid = GridSearchCV(model, param_grid, verbose=2)"
   ]
  },
  {
   "cell_type": "code",
   "execution_count": 11,
   "metadata": {},
   "outputs": [
    {
     "name": "stdout",
     "output_type": "stream",
     "text": [
      "Fitting 3 folds for each of 16 candidates, totalling 48 fits\n",
      "[CV] C=1, gamma=0.0001 ...............................................\n",
      "[LibSVM]"
     ]
    },
    {
     "name": "stderr",
     "output_type": "stream",
     "text": [
      "/Users/gianmillare/opt/anaconda3/lib/python3.7/site-packages/sklearn/model_selection/_split.py:1978: FutureWarning: The default value of cv will change from 3 to 5 in version 0.22. Specify it explicitly to silence this warning.\n",
      "  warnings.warn(CV_WARNING, FutureWarning)\n",
      "[Parallel(n_jobs=1)]: Using backend SequentialBackend with 1 concurrent workers.\n"
     ]
    },
    {
     "name": "stdout",
     "output_type": "stream",
     "text": [
      "[CV] ................................ C=1, gamma=0.0001, total=  40.4s\n",
      "[CV] C=1, gamma=0.0001 ...............................................\n",
      "[LibSVM]"
     ]
    },
    {
     "name": "stderr",
     "output_type": "stream",
     "text": [
      "[Parallel(n_jobs=1)]: Done   1 out of   1 | elapsed:   40.4s remaining:    0.0s\n"
     ]
    },
    {
     "name": "stdout",
     "output_type": "stream",
     "text": [
      "[CV] ................................ C=1, gamma=0.0001, total=  37.0s\n",
      "[CV] C=1, gamma=0.0001 ...............................................\n",
      "[LibSVM][CV] ................................ C=1, gamma=0.0001, total=  37.4s\n",
      "[CV] C=1, gamma=0.0005 ...............................................\n",
      "[LibSVM][CV] ................................ C=1, gamma=0.0005, total=  37.4s\n",
      "[CV] C=1, gamma=0.0005 ...............................................\n",
      "[LibSVM][CV] ................................ C=1, gamma=0.0005, total=  37.9s\n",
      "[CV] C=1, gamma=0.0005 ...............................................\n",
      "[LibSVM][CV] ................................ C=1, gamma=0.0005, total=  36.9s\n",
      "[CV] C=1, gamma=0.001 ................................................\n",
      "[LibSVM][CV] ................................. C=1, gamma=0.001, total=  39.3s\n",
      "[CV] C=1, gamma=0.001 ................................................\n",
      "[LibSVM][CV] ................................. C=1, gamma=0.001, total=  37.1s\n",
      "[CV] C=1, gamma=0.001 ................................................\n",
      "[LibSVM][CV] ................................. C=1, gamma=0.001, total=  34.9s\n",
      "[CV] C=1, gamma=0.005 ................................................\n",
      "[LibSVM][CV] ................................. C=1, gamma=0.005, total=  43.6s\n",
      "[CV] C=1, gamma=0.005 ................................................\n",
      "[LibSVM][CV] ................................. C=1, gamma=0.005, total=  45.6s\n",
      "[CV] C=1, gamma=0.005 ................................................\n",
      "[LibSVM][CV] ................................. C=1, gamma=0.005, total=  43.0s\n",
      "[CV] C=5, gamma=0.0001 ...............................................\n",
      "[LibSVM][CV] ................................ C=5, gamma=0.0001, total= 1.4min\n",
      "[CV] C=5, gamma=0.0001 ...............................................\n",
      "[LibSVM][CV] ................................ C=5, gamma=0.0001, total= 1.4min\n",
      "[CV] C=5, gamma=0.0001 ...............................................\n",
      "[LibSVM][CV] ................................ C=5, gamma=0.0001, total= 1.4min\n",
      "[CV] C=5, gamma=0.0005 ...............................................\n",
      "[LibSVM][CV] ................................ C=5, gamma=0.0005, total= 1.3min\n",
      "[CV] C=5, gamma=0.0005 ...............................................\n",
      "[LibSVM][CV] ................................ C=5, gamma=0.0005, total= 1.4min\n",
      "[CV] C=5, gamma=0.0005 ...............................................\n",
      "[LibSVM][CV] ................................ C=5, gamma=0.0005, total= 1.4min\n",
      "[CV] C=5, gamma=0.001 ................................................\n",
      "[LibSVM][CV] ................................. C=5, gamma=0.001, total= 1.4min\n",
      "[CV] C=5, gamma=0.001 ................................................\n",
      "[LibSVM][CV] ................................. C=5, gamma=0.001, total= 1.4min\n",
      "[CV] C=5, gamma=0.001 ................................................\n",
      "[LibSVM][CV] ................................. C=5, gamma=0.001, total= 1.4min\n",
      "[CV] C=5, gamma=0.005 ................................................\n",
      "[LibSVM][CV] ................................. C=5, gamma=0.005, total= 1.5min\n",
      "[CV] C=5, gamma=0.005 ................................................\n",
      "[LibSVM][CV] ................................. C=5, gamma=0.005, total= 1.6min\n",
      "[CV] C=5, gamma=0.005 ................................................\n",
      "[LibSVM][CV] ................................. C=5, gamma=0.005, total= 1.4min\n",
      "[CV] C=10, gamma=0.0001 ..............................................\n",
      "[LibSVM][CV] ............................... C=10, gamma=0.0001, total= 2.2min\n",
      "[CV] C=10, gamma=0.0001 ..............................................\n",
      "[LibSVM][CV] ............................... C=10, gamma=0.0001, total= 2.2min\n",
      "[CV] C=10, gamma=0.0001 ..............................................\n",
      "[LibSVM][CV] ............................... C=10, gamma=0.0001, total= 2.1min\n",
      "[CV] C=10, gamma=0.0005 ..............................................\n",
      "[LibSVM][CV] ............................... C=10, gamma=0.0005, total= 2.1min\n",
      "[CV] C=10, gamma=0.0005 ..............................................\n",
      "[LibSVM][CV] ............................... C=10, gamma=0.0005, total= 2.2min\n",
      "[CV] C=10, gamma=0.0005 ..............................................\n",
      "[LibSVM][CV] ............................... C=10, gamma=0.0005, total= 2.0min\n",
      "[CV] C=10, gamma=0.001 ...............................................\n",
      "[LibSVM][CV] ................................ C=10, gamma=0.001, total=10.3min\n",
      "[CV] C=10, gamma=0.001 ...............................................\n",
      "[LibSVM][CV] ................................ C=10, gamma=0.001, total= 2.2min\n",
      "[CV] C=10, gamma=0.001 ...............................................\n",
      "[LibSVM][CV] ................................ C=10, gamma=0.001, total= 2.0min\n",
      "[CV] C=10, gamma=0.005 ...............................................\n",
      "[LibSVM][CV] ................................ C=10, gamma=0.005, total= 2.1min\n",
      "[CV] C=10, gamma=0.005 ...............................................\n",
      "[LibSVM][CV] ................................ C=10, gamma=0.005, total= 2.1min\n",
      "[CV] C=10, gamma=0.005 ...............................................\n",
      "[LibSVM][CV] ................................ C=10, gamma=0.005, total= 2.0min\n",
      "[CV] C=50, gamma=0.0001 ..............................................\n",
      "[LibSVM][CV] ............................... C=50, gamma=0.0001, total=20.2min\n",
      "[CV] C=50, gamma=0.0001 ..............................................\n",
      "[LibSVM][CV] ............................... C=50, gamma=0.0001, total= 5.8min\n",
      "[CV] C=50, gamma=0.0001 ..............................................\n",
      "[LibSVM][CV] ............................... C=50, gamma=0.0001, total= 7.2min\n",
      "[CV] C=50, gamma=0.0005 ..............................................\n",
      "[LibSVM][CV] ............................... C=50, gamma=0.0005, total= 5.7min\n",
      "[CV] C=50, gamma=0.0005 ..............................................\n",
      "[LibSVM][CV] ............................... C=50, gamma=0.0005, total= 5.8min\n",
      "[CV] C=50, gamma=0.0005 ..............................................\n",
      "[LibSVM][CV] ............................... C=50, gamma=0.0005, total= 7.2min\n",
      "[CV] C=50, gamma=0.001 ...............................................\n",
      "[LibSVM][CV] ................................ C=50, gamma=0.001, total= 5.7min\n",
      "[CV] C=50, gamma=0.001 ...............................................\n",
      "[LibSVM][CV] ................................ C=50, gamma=0.001, total= 5.8min\n",
      "[CV] C=50, gamma=0.001 ...............................................\n",
      "[LibSVM][CV] ................................ C=50, gamma=0.001, total= 7.3min\n",
      "[CV] C=50, gamma=0.005 ...............................................\n",
      "[LibSVM][CV] ................................ C=50, gamma=0.005, total= 5.8min\n",
      "[CV] C=50, gamma=0.005 ...............................................\n",
      "[LibSVM][CV] ................................ C=50, gamma=0.005, total= 5.7min\n",
      "[CV] C=50, gamma=0.005 ...............................................\n",
      "[LibSVM][CV] ................................ C=50, gamma=0.005, total= 7.3min\n",
      "[LibSVM]"
     ]
    },
    {
     "name": "stderr",
     "output_type": "stream",
     "text": [
      "[Parallel(n_jobs=1)]: Done  48 out of  48 | elapsed: 147.7min finished\n"
     ]
    },
    {
     "data": {
      "text/plain": [
       "GridSearchCV(cv='warn', error_score='raise-deprecating',\n",
       "             estimator=SVC(C=1.0, cache_size=200, class_weight=None, coef0=0.0,\n",
       "                           decision_function_shape='ovr', degree=3,\n",
       "                           gamma='auto_deprecated', kernel='linear',\n",
       "                           max_iter=-1, probability=False, random_state=None,\n",
       "                           shrinking=True, tol=0.001, verbose=1),\n",
       "             iid='warn', n_jobs=None,\n",
       "             param_grid={'C': [1, 5, 10, 50],\n",
       "                         'gamma': [0.0001, 0.0005, 0.001, 0.005]},\n",
       "             pre_dispatch='2*n_jobs', refit=True, return_train_score=False,\n",
       "             scoring=None, verbose=2)"
      ]
     },
     "execution_count": 11,
     "metadata": {},
     "output_type": "execute_result"
    }
   ],
   "source": [
    "grid.fit(X_train_scaled, y_train)"
   ]
  },
  {
   "cell_type": "code",
   "execution_count": 12,
   "metadata": {},
   "outputs": [
    {
     "name": "stdout",
     "output_type": "stream",
     "text": [
      "0.7231238095238095\n"
     ]
    }
   ],
   "source": [
    "print(grid.best_score_)"
   ]
  },
  {
   "cell_type": "code",
   "execution_count": 13,
   "metadata": {},
   "outputs": [
    {
     "name": "stdout",
     "output_type": "stream",
     "text": [
      "Training Score BEFORE GridSearchCV: 0.7232761904761905\n",
      "Testing Score BEFORE GridSearchCV: 0.7228\n",
      "--------------------------------------------------------------\n",
      "Training Score AFTER GridSearchCV: 0.7232190476190477\n",
      "Testing Score AFTER GridSearchCV: 0.7229714285714286\n"
     ]
    }
   ],
   "source": [
    "trainCV = grid.score(X_train_scaled, y_train)\n",
    "testCV = grid.score(X_test_scaled, y_test)\n",
    "\n",
    "print(f\"Training Score BEFORE GridSearchCV: {trainSVM}\")\n",
    "print(f\"Testing Score BEFORE GridSearchCV: {testSVM}\")\n",
    "print(\"--------------------------------------------------------------\")\n",
    "print(f\"Training Score AFTER GridSearchCV: {trainCV}\")\n",
    "print(f\"Testing Score AFTER GridSearchCV: {testCV}\")"
   ]
  },
  {
   "cell_type": "code",
   "execution_count": 14,
   "metadata": {},
   "outputs": [
    {
     "name": "stdout",
     "output_type": "stream",
     "text": [
      "              precision    recall  f1-score   support\n",
      "\n",
      "           0       0.68      0.81      0.74      8609\n",
      "           1       0.78      0.64      0.70      8891\n",
      "\n",
      "    accuracy                           0.72     17500\n",
      "   macro avg       0.73      0.72      0.72     17500\n",
      "weighted avg       0.73      0.72      0.72     17500\n",
      "\n"
     ]
    }
   ],
   "source": [
    "from sklearn.metrics import classification_report\n",
    "\n",
    "predictions = grid.predict(X_test_scaled)\n",
    "print(classification_report(y_test, predictions))"
   ]
  },
  {
   "cell_type": "code",
   "execution_count": 4,
   "metadata": {},
   "outputs": [],
   "source": [
    "import pickle\n",
    "\n",
    "# filename = 'svm_ss_gridsearch.pkl'\n",
    "# pickle.dump(model, open(filename, 'wb'))"
   ]
  },
  {
   "cell_type": "code",
   "execution_count": 5,
   "metadata": {},
   "outputs": [],
   "source": [
    "loaded_model = pickle.load(open('svm_ss_gridsearch.pkl', 'rb'))"
   ]
  },
  {
   "cell_type": "code",
   "execution_count": 6,
   "metadata": {},
   "outputs": [
    {
     "data": {
      "text/plain": [
       "array([[ 2.61591453e-01,  5.78530671e-03, -7.19371289e-02,\n",
       "         1.86681291e-01,  7.65170369e+00,  3.93037042e-02,\n",
       "         3.81064710e-01, -4.13140246e-02, -3.06078025e-02,\n",
       "        -2.27897497e-02, -7.99560546e-02]])"
      ]
     },
     "execution_count": 6,
     "metadata": {},
     "output_type": "execute_result"
    }
   ],
   "source": [
    "loaded_model.coef_"
   ]
  },
  {
   "cell_type": "code",
   "execution_count": 7,
   "metadata": {},
   "outputs": [
    {
     "data": {
      "text/plain": [
       "array([1])"
      ]
     },
     "execution_count": 7,
     "metadata": {},
     "output_type": "execute_result"
    }
   ],
   "source": [
    "X = np.array([35,1,165,80.0,140,100,3,1,1,0,1])\n",
    "\n",
    "loaded_model.predict((X.reshape(1,-1)))"
   ]
  },
  {
   "cell_type": "code",
   "execution_count": null,
   "metadata": {},
   "outputs": [],
   "source": []
  }
 ],
 "metadata": {
  "kernelspec": {
   "display_name": "Python 3",
   "language": "python",
   "name": "python3"
  },
  "language_info": {
   "codemirror_mode": {
    "name": "ipython",
    "version": 3
   },
   "file_extension": ".py",
   "mimetype": "text/x-python",
   "name": "python",
   "nbconvert_exporter": "python",
   "pygments_lexer": "ipython3",
   "version": "3.6.9"
  }
 },
 "nbformat": 4,
 "nbformat_minor": 2
}
